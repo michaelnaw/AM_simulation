{
 "cells": [
  {
   "cell_type": "code",
   "execution_count": null,
   "id": "f2b8c13e-4b7e-43f8-83e1-2ee9753868a9",
   "metadata": {},
   "outputs": [],
   "source": [
    "import numpy as np\n",
    "import matplotlib.pyplot as plt\n",
    "from scipy.signal import lfilter, decimate, resample_poly, resample, wiener\n",
    "from scipy.fft import fft\n",
    "from IPython.display import Audio\n",
    "%matplotlib qt"
   ]
  },
  {
   "cell_type": "markdown",
   "id": "9162e1f9-2a18-4d77-8781-b27e64350776",
   "metadata": {},
   "source": [
    "# AM Demodulation\n",
    "\n",
    "## Mathematical Explanation\n",
    "\n",
    "1. **AM Signal Representation:**\n",
    "   - AM Signal: $s(t) = (A_c + m(t)) \\cdot \\cos(2\\pi f_c t)$\n",
    "     - Where $s(t)$ is the AM signal, $A_c$ is the amplitude of the carrier wave, $m(t)$ is the message signal, and $f_c$ is the carrier frequency.\n",
    "2. **Envelope Detection:**\n",
    "   - Simplest form of demodulation.\n",
    "   - Rectify and smooth the AM signal.\n",
    "   - Rectified Signal: $|s(t)| = |(A_c + m(t)) \\cdot \\cos(2\\pi f_c t)|$\n",
    "   - After smoothing and removing DC offset, the message signal $m(t)$ is recovered.\n",
    "3. **Synchronous Detection:**\n",
    "   - Involves mixing the AM signal with a local carrier of the same frequency and phase.\n",
    "   - Demodulated Signal: $s(t) \\cdot \\cos(2\\pi f_c t) = (A_c + m(t)) \\cdot \\cos^2(2\\pi f_c t)$\n",
    "   - Using trigonometric identities, the signal can be expressed as: $\\frac{1}{2}(A_c + m(t)) + \\frac{1}{2}(A_c + m(t))\\cos(4\\pi f_c t)$\n",
    "   - This contains a low-frequency component (the desired message signal $m(t)$) and a high-frequency component (twice the carrier frequency).\n",
    "   - A low-pass filter removes the high-frequency component, yielding: $\\frac{1}{2}(A_c + m(t))$\n",
    "   - Removing the DC offset, the original message signal $m(t)$ is recovered."
   ]
  },
  {
   "cell_type": "code",
   "execution_count": null,
   "id": "43dd34c3-19b7-4803-be3a-d330302175eb",
   "metadata": {},
   "outputs": [],
   "source": [
    "signal = np.load('signal_-1.npy')\n",
    "fs = 6.25E6  # Sample rate in Hz\n",
    "t_end = signal.shape[0]/fs\n",
    "t = np.arange(0, t_end, 1/fs)  # Time vector"
   ]
  },
  {
   "cell_type": "markdown",
   "id": "5899f012-fb8f-43c2-bafb-1523af95d3a7",
   "metadata": {},
   "source": [
    "**Low pass filter and decimation**"
   ]
  },
  {
   "cell_type": "code",
   "execution_count": null,
   "id": "06e05b87-9c2e-41bc-aceb-19c17cd63484",
   "metadata": {},
   "outputs": [],
   "source": [
    "b, a = np.load('dec_fil.npy')\n",
    "signal_fil = lfilter(b, a, signal)\n",
    "dec = 5\n",
    "signal_dec = decimate(signal_fil, dec)\n",
    "t_dec = t[::dec]\n",
    "fs_dec = fs/dec"
   ]
  },
  {
   "cell_type": "code",
   "execution_count": null,
   "id": "12d17632-346d-4246-9a74-14c193037917",
   "metadata": {},
   "outputs": [],
   "source": [
    "plt.figure()\n",
    "Pxx_dec, f = plt.psd(signal_dec, Fs=fs_dec, NFFT=int(fs_dec), scale_by_freq=False)\n",
    "plt.show()"
   ]
  },
  {
   "cell_type": "markdown",
   "id": "f53b4fed-fce1-4069-9ac4-ef1aae01af3a",
   "metadata": {},
   "source": [
    "**Find N highest frequncies**"
   ]
  },
  {
   "cell_type": "code",
   "execution_count": null,
   "id": "a2865b37-db24-44be-b13f-2949d226a37c",
   "metadata": {},
   "outputs": [],
   "source": [
    "N = 5\n",
    "paired_freq_power = sorted(zip(f, Pxx_dec), key=lambda x: x[1], reverse=True)\n",
    "top_N_frequencies = [freq for freq, power in paired_freq_power[:N]]\n",
    "print(top_N_frequencies)"
   ]
  },
  {
   "cell_type": "code",
   "execution_count": null,
   "id": "20b9ad96-9b3d-47ea-8b06-a17104c8901c",
   "metadata": {},
   "outputs": [],
   "source": [
    "selected_freq = None"
   ]
  },
  {
   "cell_type": "markdown",
   "id": "1ac61e88-b241-48aa-897e-3642182a33e8",
   "metadata": {},
   "source": [
    "**IF - Downconvert, Filtering, Decimation**"
   ]
  },
  {
   "cell_type": "code",
   "execution_count": null,
   "id": "20d1e6fd-b57b-4d41-b686-834fe0ba27e2",
   "metadata": {},
   "outputs": [],
   "source": [
    "IF_FREQ = 105E3\n",
    "mixing_freq = selected_freq-IF_FREQ\n",
    "signal_dncnvrt = np.cos(2*np.pi*mixing_freq*t_dec)*signal_dec\n",
    "b, a = np.load('if_fil.npy')\n",
    "signal_dncnvrt_iff = lfilter(b, a, signal_dncnvrt)"
   ]
  },
  {
   "cell_type": "code",
   "execution_count": null,
   "id": "471cf7da-a134-48a7-8415-348b7404e6c6",
   "metadata": {},
   "outputs": [],
   "source": [
    "dec_1 = 5\n",
    "signal_dec_1 = decimate(signal_dncnvrt_iff, dec, n=2)\n",
    "t_dec_1 = t_dec[::dec_1]\n",
    "fs_dec_1 = fs_dec/dec_1"
   ]
  },
  {
   "cell_type": "code",
   "execution_count": null,
   "id": "1fd52630-0d03-4e2d-a4cc-6cf026f7a29f",
   "metadata": {},
   "outputs": [],
   "source": [
    "plt.figure()\n",
    "plt.psd(signal_dec_1, Fs=fs_dec_1, NFFT=int(fs_dec_1), scale_by_freq=False)\n",
    "plt.show()"
   ]
  },
  {
   "cell_type": "code",
   "execution_count": null,
   "id": "57291dd6-d338-456d-a2cb-611ab6b1d0ea",
   "metadata": {},
   "outputs": [],
   "source": [
    "# 1. Rectification\n",
    "rectified_AM = np.abs(signal_dec_1)\n",
    "\n",
    "# 2. Filtering\n",
    "b, a = np.load('aud_fil.npy')\n",
    "\n",
    "# Apply the filter to the rectified signal\n",
    "filtered_message = filtfilt(b, a, rectified_AM)\n",
    "\n",
    "# 3. DC Removal\n",
    "# Assuming the message has zero DC component, the DC component in the rectified signal is approximately Ac.\n",
    "# We subtract this to get the demodulated message signal\n",
    "Ac = np.mean(filtered_message)\n",
    "demodulated_message = filtered_message - Ac"
   ]
  },
  {
   "cell_type": "code",
   "execution_count": null,
   "id": "3d830b77-53d6-4368-bfc7-322063b4a9ef",
   "metadata": {},
   "outputs": [],
   "source": [
    "aud_fs = 44100\n",
    "aud_sig = resample(demodulated_message, int(aud_fs*t_end))"
   ]
  },
  {
   "cell_type": "code",
   "execution_count": null,
   "id": "85882a05-f5af-417d-a867-5c93f1c41f60",
   "metadata": {},
   "outputs": [],
   "source": [
    "plt.figure()\n",
    "plt.psd(aud_sig, Fs=aud_fs, NFFT=int(aud_fs), scale_by_freq=False)\n",
    "plt.show()"
   ]
  },
  {
   "cell_type": "code",
   "execution_count": null,
   "id": "bd4001a6-d81f-4324-9da1-fafb8e33a64f",
   "metadata": {},
   "outputs": [],
   "source": [
    "b, a = np.load('aud_fil_2.npy')\n",
    "aud_sig_fil = filtfilt(b, a, aud_sig)"
   ]
  },
  {
   "cell_type": "code",
   "execution_count": null,
   "id": "9e4b978f-b077-4d2f-b605-9f9e2def427b",
   "metadata": {},
   "outputs": [],
   "source": [
    "plt.figure()\n",
    "plt.psd(aud_sig_fil, Fs=aud_fs, NFFT=int(aud_fs/10), scale_by_freq=False)\n",
    "plt.show()"
   ]
  },
  {
   "cell_type": "code",
   "execution_count": null,
   "id": "8cef2551-989d-4f66-89a1-758998f1aef9",
   "metadata": {},
   "outputs": [],
   "source": [
    "audio_player_dsp = Audio(aud_sig_fil, rate=44100)\n",
    "\n",
    "audio_player_dsp"
   ]
  },
  {
   "cell_type": "code",
   "execution_count": null,
   "id": "324f5867-50f8-47d3-97c2-5599cb2ef765",
   "metadata": {},
   "outputs": [],
   "source": [
    "aud_sig_fil_wiener = wiener(aud_sig_fil)"
   ]
  },
  {
   "cell_type": "code",
   "execution_count": null,
   "id": "a545b4f3-d52f-4e78-abe0-ca535726b1af",
   "metadata": {},
   "outputs": [],
   "source": [
    "audio_player_dsp_2 = Audio(aud_sig_fil_wiener, rate=44100)\n",
    "\n",
    "audio_player_dsp_2"
   ]
  },
  {
   "cell_type": "code",
   "execution_count": null,
   "id": "70f79f90-68ac-46dc-ad9a-1ded80b7e342",
   "metadata": {},
   "outputs": [],
   "source": [
    "# Estimate the noise spectrum (assuming the first 10% of aud_sig_fil is noise)\n",
    "noise_samples = int(len(aud_sig_fil) * 0.1)\n",
    "noise_spectrum = np.abs(fft(aud_sig_fil[:noise_samples]))\n",
    "\n",
    "# Mean noise spectrum\n",
    "mean_noise_spectrum = np.mean(noise_spectrum, axis=0)\n",
    "\n",
    "# Perform FFT on the entire signal\n",
    "signal_fft = fft(aud_sig_fil)\n",
    "signal_magnitude = np.abs(signal_fft)\n",
    "signal_phase = np.angle(signal_fft)\n",
    "\n",
    "# Spectral subtraction\n",
    "noise_reduction_factor = 0.1  # Adjust this factor to control the amount of noise reduction\n",
    "subtracted_magnitude = signal_magnitude - noise_reduction_factor * mean_noise_spectrum\n",
    "subtracted_magnitude[subtracted_magnitude < 0] = 0\n",
    "\n",
    "# Reconstruct the signal\n",
    "reconstructed_fft = subtracted_magnitude * np.exp(1j * signal_phase)\n",
    "noise_reduced_aud_sig_fil = np.real(np.fft.ifft(reconstructed_fft))"
   ]
  },
  {
   "cell_type": "code",
   "execution_count": null,
   "id": "1e206b06-ee2d-4c5c-928f-34da405fd9ba",
   "metadata": {},
   "outputs": [],
   "source": [
    "audio_player_dsp_3 = Audio(noise_reduced_aud_sig_fil, rate=44100)\n",
    "\n",
    "audio_player_dsp_3"
   ]
  }
 ],
 "metadata": {
  "kernelspec": {
   "display_name": "Python 3 (ipykernel)",
   "language": "python",
   "name": "python3"
  },
  "language_info": {
   "codemirror_mode": {
    "name": "ipython",
    "version": 3
   },
   "file_extension": ".py",
   "mimetype": "text/x-python",
   "name": "python",
   "nbconvert_exporter": "python",
   "pygments_lexer": "ipython3",
   "version": "3.12.0"
  }
 },
 "nbformat": 4,
 "nbformat_minor": 5
}
